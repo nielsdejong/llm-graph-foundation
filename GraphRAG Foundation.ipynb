{
 "cells": [
  {
   "cell_type": "code",
   "execution_count": 1,
   "id": "5d9ad914",
   "metadata": {},
   "outputs": [
    {
     "name": "stdout",
     "output_type": "stream",
     "text": [
      "Requirement already satisfied: pypdf in /Users/nielsdejong/.pyenv/versions/3.9.15/lib/python3.9/site-packages (4.3.0)\n",
      "Requirement already satisfied: langchain_community in /Users/nielsdejong/.pyenv/versions/3.9.15/lib/python3.9/site-packages (0.2.7)\n",
      "Requirement already satisfied: langchain in /Users/nielsdejong/.pyenv/versions/3.9.15/lib/python3.9/site-packages (0.2.8)\n",
      "Requirement already satisfied: langchain_openai in /Users/nielsdejong/.pyenv/versions/3.9.15/lib/python3.9/site-packages (0.1.16)\n",
      "Requirement already satisfied: neo4j_genai in /Users/nielsdejong/.pyenv/versions/3.9.15/lib/python3.9/site-packages (0.3.1)\n",
      "Requirement already satisfied: langchain_experimental in /Users/nielsdejong/.pyenv/versions/3.9.15/lib/python3.9/site-packages (0.0.62)\n",
      "Requirement already satisfied: IPython in /Users/nielsdejong/.pyenv/versions/3.9.15/lib/python3.9/site-packages (8.18.1)\n",
      "Requirement already satisfied: neo4j in /Users/nielsdejong/.pyenv/versions/3.9.15/lib/python3.9/site-packages (5.22.0)\n",
      "Requirement already satisfied: yfiles_jupyter_graphs in /Users/nielsdejong/.pyenv/versions/3.9.15/lib/python3.9/site-packages (1.7.2)\n",
      "Requirement already satisfied: yfiles_jupyter_graphs_for_neo4j==1.3.1 in /Users/nielsdejong/.pyenv/versions/3.9.15/lib/python3.9/site-packages (1.3.1)\n",
      "Requirement already satisfied: typing_extensions>=4.0 in /Users/nielsdejong/.pyenv/versions/3.9.15/lib/python3.9/site-packages (from pypdf) (4.9.0)\n",
      "Requirement already satisfied: PyYAML>=5.3 in /Users/nielsdejong/.pyenv/versions/3.9.15/lib/python3.9/site-packages (from langchain_community) (6.0.1)\n",
      "Requirement already satisfied: SQLAlchemy<3,>=1.4 in /Users/nielsdejong/.pyenv/versions/3.9.15/lib/python3.9/site-packages (from langchain_community) (2.0.31)\n",
      "Requirement already satisfied: aiohttp<4.0.0,>=3.8.3 in /Users/nielsdejong/.pyenv/versions/3.9.15/lib/python3.9/site-packages (from langchain_community) (3.9.5)\n",
      "Requirement already satisfied: dataclasses-json<0.7,>=0.5.7 in /Users/nielsdejong/.pyenv/versions/3.9.15/lib/python3.9/site-packages (from langchain_community) (0.6.7)\n",
      "Requirement already satisfied: langchain-core<0.3.0,>=0.2.12 in /Users/nielsdejong/.pyenv/versions/3.9.15/lib/python3.9/site-packages (from langchain_community) (0.2.20)\n",
      "Requirement already satisfied: langsmith<0.2.0,>=0.1.0 in /Users/nielsdejong/.pyenv/versions/3.9.15/lib/python3.9/site-packages (from langchain_community) (0.1.88)\n",
      "Requirement already satisfied: numpy<2,>=1 in /Users/nielsdejong/.pyenv/versions/3.9.15/lib/python3.9/site-packages (from langchain_community) (1.24.3)\n",
      "Requirement already satisfied: requests<3,>=2 in /Users/nielsdejong/.pyenv/versions/3.9.15/lib/python3.9/site-packages (from langchain_community) (2.31.0)\n",
      "Requirement already satisfied: tenacity!=8.4.0,<9.0.0,>=8.1.0 in /Users/nielsdejong/.pyenv/versions/3.9.15/lib/python3.9/site-packages (from langchain_community) (8.5.0)\n",
      "Requirement already satisfied: async-timeout<5.0.0,>=4.0.0 in /Users/nielsdejong/.pyenv/versions/3.9.15/lib/python3.9/site-packages (from langchain) (4.0.3)\n",
      "Requirement already satisfied: langchain-text-splitters<0.3.0,>=0.2.0 in /Users/nielsdejong/.pyenv/versions/3.9.15/lib/python3.9/site-packages (from langchain) (0.2.2)\n",
      "Requirement already satisfied: pydantic<3,>=1 in /Users/nielsdejong/.pyenv/versions/3.9.15/lib/python3.9/site-packages (from langchain) (2.8.2)\n",
      "Requirement already satisfied: openai<2.0.0,>=1.32.0 in /Users/nielsdejong/.pyenv/versions/3.9.15/lib/python3.9/site-packages (from langchain_openai) (1.35.14)\n",
      "Requirement already satisfied: tiktoken<1,>=0.7 in /Users/nielsdejong/.pyenv/versions/3.9.15/lib/python3.9/site-packages (from langchain_openai) (0.7.0)\n",
      "Requirement already satisfied: eval-type-backport<0.3.0,>=0.2.0 in /Users/nielsdejong/.pyenv/versions/3.9.15/lib/python3.9/site-packages (from neo4j_genai) (0.2.0)\n",
      "Requirement already satisfied: types-mock<6.0.0.0,>=5.1.0.20240425 in /Users/nielsdejong/.pyenv/versions/3.9.15/lib/python3.9/site-packages (from neo4j_genai) (5.1.0.20240425)\n",
      "Requirement already satisfied: types-requests<3.0.0.0,>=2.31.0.20240218 in /Users/nielsdejong/.pyenv/versions/3.9.15/lib/python3.9/site-packages (from neo4j_genai) (2.32.0.20240712)\n",
      "Requirement already satisfied: decorator in /Users/nielsdejong/.pyenv/versions/3.9.15/lib/python3.9/site-packages (from IPython) (5.1.1)\n",
      "Requirement already satisfied: jedi>=0.16 in /Users/nielsdejong/.pyenv/versions/3.9.15/lib/python3.9/site-packages (from IPython) (0.19.1)\n",
      "Requirement already satisfied: matplotlib-inline in /Users/nielsdejong/.pyenv/versions/3.9.15/lib/python3.9/site-packages (from IPython) (0.1.7)\n",
      "Requirement already satisfied: prompt-toolkit<3.1.0,>=3.0.41 in /Users/nielsdejong/.pyenv/versions/3.9.15/lib/python3.9/site-packages (from IPython) (3.0.47)\n",
      "Requirement already satisfied: pygments>=2.4.0 in /Users/nielsdejong/.pyenv/versions/3.9.15/lib/python3.9/site-packages (from IPython) (2.18.0)\n",
      "Requirement already satisfied: stack-data in /Users/nielsdejong/.pyenv/versions/3.9.15/lib/python3.9/site-packages (from IPython) (0.6.3)\n",
      "Requirement already satisfied: traitlets>=5 in /Users/nielsdejong/.pyenv/versions/3.9.15/lib/python3.9/site-packages (from IPython) (5.14.3)\n",
      "Requirement already satisfied: exceptiongroup in /Users/nielsdejong/.pyenv/versions/3.9.15/lib/python3.9/site-packages (from IPython) (1.2.0)\n",
      "Requirement already satisfied: pexpect>4.3 in /Users/nielsdejong/.pyenv/versions/3.9.15/lib/python3.9/site-packages (from IPython) (4.9.0)\n",
      "Requirement already satisfied: pytz in /Users/nielsdejong/.pyenv/versions/3.9.15/lib/python3.9/site-packages (from neo4j) (2023.3)\n",
      "Requirement already satisfied: ipywidgets>=8.0.0 in /Users/nielsdejong/.pyenv/versions/3.9.15/lib/python3.9/site-packages (from yfiles_jupyter_graphs) (8.1.3)\n",
      "Requirement already satisfied: aiosignal>=1.1.2 in /Users/nielsdejong/.pyenv/versions/3.9.15/lib/python3.9/site-packages (from aiohttp<4.0.0,>=3.8.3->langchain_community) (1.3.1)\n",
      "Requirement already satisfied: attrs>=17.3.0 in /Users/nielsdejong/.pyenv/versions/3.9.15/lib/python3.9/site-packages (from aiohttp<4.0.0,>=3.8.3->langchain_community) (23.2.0)\n",
      "Requirement already satisfied: frozenlist>=1.1.1 in /Users/nielsdejong/.pyenv/versions/3.9.15/lib/python3.9/site-packages (from aiohttp<4.0.0,>=3.8.3->langchain_community) (1.4.1)\n",
      "Requirement already satisfied: multidict<7.0,>=4.5 in /Users/nielsdejong/.pyenv/versions/3.9.15/lib/python3.9/site-packages (from aiohttp<4.0.0,>=3.8.3->langchain_community) (6.0.5)\n",
      "Requirement already satisfied: yarl<2.0,>=1.0 in /Users/nielsdejong/.pyenv/versions/3.9.15/lib/python3.9/site-packages (from aiohttp<4.0.0,>=3.8.3->langchain_community) (1.9.4)\n",
      "Requirement already satisfied: marshmallow<4.0.0,>=3.18.0 in /Users/nielsdejong/.pyenv/versions/3.9.15/lib/python3.9/site-packages (from dataclasses-json<0.7,>=0.5.7->langchain_community) (3.21.3)\n",
      "Requirement already satisfied: typing-inspect<1,>=0.4.0 in /Users/nielsdejong/.pyenv/versions/3.9.15/lib/python3.9/site-packages (from dataclasses-json<0.7,>=0.5.7->langchain_community) (0.9.0)\n",
      "Requirement already satisfied: comm>=0.1.3 in /Users/nielsdejong/.pyenv/versions/3.9.15/lib/python3.9/site-packages (from ipywidgets>=8.0.0->yfiles_jupyter_graphs) (0.2.2)\n",
      "Requirement already satisfied: widgetsnbextension~=4.0.11 in /Users/nielsdejong/.pyenv/versions/3.9.15/lib/python3.9/site-packages (from ipywidgets>=8.0.0->yfiles_jupyter_graphs) (4.0.11)\n",
      "Requirement already satisfied: jupyterlab-widgets~=3.0.11 in /Users/nielsdejong/.pyenv/versions/3.9.15/lib/python3.9/site-packages (from ipywidgets>=8.0.0->yfiles_jupyter_graphs) (3.0.11)\n",
      "Requirement already satisfied: parso<0.9.0,>=0.8.3 in /Users/nielsdejong/.pyenv/versions/3.9.15/lib/python3.9/site-packages (from jedi>=0.16->IPython) (0.8.4)\n",
      "Requirement already satisfied: jsonpatch<2.0,>=1.33 in /Users/nielsdejong/.pyenv/versions/3.9.15/lib/python3.9/site-packages (from langchain-core<0.3.0,>=0.2.12->langchain_community) (1.33)\n",
      "Requirement already satisfied: packaging<25,>=23.2 in /Users/nielsdejong/.pyenv/versions/3.9.15/lib/python3.9/site-packages (from langchain-core<0.3.0,>=0.2.12->langchain_community) (24.1)\n",
      "Requirement already satisfied: orjson<4.0.0,>=3.9.14 in /Users/nielsdejong/.pyenv/versions/3.9.15/lib/python3.9/site-packages (from langsmith<0.2.0,>=0.1.0->langchain_community) (3.10.6)\n",
      "Requirement already satisfied: anyio<5,>=3.5.0 in /Users/nielsdejong/.pyenv/versions/3.9.15/lib/python3.9/site-packages (from openai<2.0.0,>=1.32.0->langchain_openai) (4.2.0)\n",
      "Requirement already satisfied: distro<2,>=1.7.0 in /Users/nielsdejong/.pyenv/versions/3.9.15/lib/python3.9/site-packages (from openai<2.0.0,>=1.32.0->langchain_openai) (1.9.0)\n",
      "Requirement already satisfied: httpx<1,>=0.23.0 in /Users/nielsdejong/.pyenv/versions/3.9.15/lib/python3.9/site-packages (from openai<2.0.0,>=1.32.0->langchain_openai) (0.27.0)\n",
      "Requirement already satisfied: sniffio in /Users/nielsdejong/.pyenv/versions/3.9.15/lib/python3.9/site-packages (from openai<2.0.0,>=1.32.0->langchain_openai) (1.3.0)\n",
      "Requirement already satisfied: tqdm>4 in /Users/nielsdejong/.pyenv/versions/3.9.15/lib/python3.9/site-packages (from openai<2.0.0,>=1.32.0->langchain_openai) (4.66.4)\n",
      "Requirement already satisfied: ptyprocess>=0.5 in /Users/nielsdejong/.pyenv/versions/3.9.15/lib/python3.9/site-packages (from pexpect>4.3->IPython) (0.7.0)\n",
      "Requirement already satisfied: wcwidth in /Users/nielsdejong/.pyenv/versions/3.9.15/lib/python3.9/site-packages (from prompt-toolkit<3.1.0,>=3.0.41->IPython) (0.2.13)\n",
      "Requirement already satisfied: annotated-types>=0.4.0 in /Users/nielsdejong/.pyenv/versions/3.9.15/lib/python3.9/site-packages (from pydantic<3,>=1->langchain) (0.6.0)\n",
      "Requirement already satisfied: pydantic-core==2.20.1 in /Users/nielsdejong/.pyenv/versions/3.9.15/lib/python3.9/site-packages (from pydantic<3,>=1->langchain) (2.20.1)\n",
      "Requirement already satisfied: charset-normalizer<4,>=2 in /Users/nielsdejong/.pyenv/versions/3.9.15/lib/python3.9/site-packages (from requests<3,>=2->langchain_community) (3.1.0)\n",
      "Requirement already satisfied: idna<4,>=2.5 in /Users/nielsdejong/.pyenv/versions/3.9.15/lib/python3.9/site-packages (from requests<3,>=2->langchain_community) (3.4)\n",
      "Requirement already satisfied: urllib3<3,>=1.21.1 in /Users/nielsdejong/.pyenv/versions/3.9.15/lib/python3.9/site-packages (from requests<3,>=2->langchain_community) (2.0.3)\n",
      "Requirement already satisfied: certifi>=2017.4.17 in /Users/nielsdejong/.pyenv/versions/3.9.15/lib/python3.9/site-packages (from requests<3,>=2->langchain_community) (2023.5.7)\n",
      "Requirement already satisfied: regex>=2022.1.18 in /Users/nielsdejong/.pyenv/versions/3.9.15/lib/python3.9/site-packages (from tiktoken<1,>=0.7->langchain_openai) (2024.5.15)\n",
      "Requirement already satisfied: executing>=1.2.0 in /Users/nielsdejong/.pyenv/versions/3.9.15/lib/python3.9/site-packages (from stack-data->IPython) (2.0.1)\n",
      "Requirement already satisfied: asttokens>=2.1.0 in /Users/nielsdejong/.pyenv/versions/3.9.15/lib/python3.9/site-packages (from stack-data->IPython) (2.4.1)\n",
      "Requirement already satisfied: pure-eval in /Users/nielsdejong/.pyenv/versions/3.9.15/lib/python3.9/site-packages (from stack-data->IPython) (0.2.2)\n",
      "Requirement already satisfied: six>=1.12.0 in /Users/nielsdejong/.pyenv/versions/3.9.15/lib/python3.9/site-packages (from asttokens>=2.1.0->stack-data->IPython) (1.16.0)\n",
      "Requirement already satisfied: httpcore==1.* in /Users/nielsdejong/.pyenv/versions/3.9.15/lib/python3.9/site-packages (from httpx<1,>=0.23.0->openai<2.0.0,>=1.32.0->langchain_openai) (1.0.5)\n",
      "Requirement already satisfied: h11<0.15,>=0.13 in /Users/nielsdejong/.pyenv/versions/3.9.15/lib/python3.9/site-packages (from httpcore==1.*->httpx<1,>=0.23.0->openai<2.0.0,>=1.32.0->langchain_openai) (0.14.0)\n",
      "Requirement already satisfied: jsonpointer>=1.9 in /Users/nielsdejong/.pyenv/versions/3.9.15/lib/python3.9/site-packages (from jsonpatch<2.0,>=1.33->langchain-core<0.3.0,>=0.2.12->langchain_community) (3.0.0)\n",
      "Requirement already satisfied: mypy-extensions>=0.3.0 in /Users/nielsdejong/.pyenv/versions/3.9.15/lib/python3.9/site-packages (from typing-inspect<1,>=0.4.0->dataclasses-json<0.7,>=0.5.7->langchain_community) (1.0.0)\n",
      "\n",
      "\u001b[1m[\u001b[0m\u001b[34;49mnotice\u001b[0m\u001b[1;39;49m]\u001b[0m\u001b[39;49m A new release of pip is available: \u001b[0m\u001b[31;49m24.1.2\u001b[0m\u001b[39;49m -> \u001b[0m\u001b[32;49m24.2\u001b[0m\n",
      "\u001b[1m[\u001b[0m\u001b[34;49mnotice\u001b[0m\u001b[1;39;49m]\u001b[0m\u001b[39;49m To update, run: \u001b[0m\u001b[32;49mpip install --upgrade pip\u001b[0m\n",
      "Note: you may need to restart the kernel to use updated packages.\n"
     ]
    }
   ],
   "source": [
    "# Install required packages using pip\n",
    "%pip install pypdf langchain_community langchain langchain_openai neo4j_genai langchain_experimental IPython neo4j yfiles_jupyter_graphs yfiles_jupyter_graphs_for_neo4j==1.3.1"
   ]
  },
  {
   "cell_type": "markdown",
   "id": "5cdf86a7",
   "metadata": {},
   "source": [
    "## Initialization\n",
    "This section initializes the notebook by importing necessary libraries and loading environment variables."
   ]
  },
  {
   "cell_type": "code",
   "execution_count": 2,
   "id": "82c6085d",
   "metadata": {},
   "outputs": [],
   "source": [
    "# Import necessary libraries\n",
    "import pandas as pd\n",
    "import numpy as np\n",
    "from langchain_community.document_loaders import PyPDFLoader\n",
    "from langchain.text_splitter import RecursiveCharacterTextSplitter\n",
    "from langchain_openai import OpenAIEmbeddings\n",
    "import os\n",
    "from dotenv import load_dotenv\n",
    "from neo4j import GraphDatabase\n",
    "import ast\n",
    "\n",
    "# Check if running in Google Colab and enable custom widget manager if true\n",
    "try:\n",
    "  import google.colab\n",
    "  from google.colab import output\n",
    "  output.enable_custom_widget_manager()\n",
    "except:\n",
    "  pass"
   ]
  },
  {
   "cell_type": "code",
   "execution_count": 3,
   "id": "5269f226",
   "metadata": {},
   "outputs": [],
   "source": [
    "# Load environment variables from 'credentials.env' if it exists\n",
    "if os.path.exists('credentials.env'):\n",
    "    load_dotenv('credentials.env', override=True)\n",
    "\n",
    "    # Neo4j credentials\n",
    "    uri = os.getenv('NEO4J_URI')\n",
    "    username = os.getenv('NEO4J_USERNAME')\n",
    "    password = os.getenv('NEO4J_PASSWORD')\n",
    "    database = os.getenv('NEO4J_DATABASE')\n",
    "\n",
    "    # OpenAI credentials\n",
    "    OPENAI_API_KEY = os.getenv('OPENAI_API_KEY')\n",
    "    os.environ['OPENAI_API_KEY']=OPENAI_API_KEY\n",
    "else:\n",
    "    print(\"File 'credentials.env' not found.\")"
   ]
  },
  {
   "cell_type": "markdown",
   "id": "ee901e91",
   "metadata": {},
   "source": [
    "## Create Text Chunks and Generate Embeddings\n",
    "This section splits the PDF document into chunks and generates embeddings for each chunk using OpenAI."
   ]
  },
  {
   "cell_type": "code",
   "execution_count": 4,
   "id": "df539ea0",
   "metadata": {},
   "outputs": [],
   "source": [
    "# Initialize text splitter with specified chunk size and overlap\n",
    "chunk_size = 800\n",
    "chunk_overlap = 100\n",
    "text_splitter = RecursiveCharacterTextSplitter(\n",
    "    chunk_size = chunk_size,\n",
    "    chunk_overlap  = chunk_overlap,\n",
    "    length_function = len,\n",
    "    is_separator_regex = False,\n",
    ")"
   ]
  },
  {
   "cell_type": "code",
   "execution_count": 5,
   "id": "746d3287",
   "metadata": {},
   "outputs": [
    {
     "name": "stdout",
     "output_type": "stream",
     "text": [
      "Parsed: microsoft-blogpost.pdf\n",
      "Chunked 8 pages into 25 chunks\n"
     ]
    }
   ],
   "source": [
    "# Load and split the PDF document into chunks\n",
    "doc_path = 'microsoft-blogpost.pdf'\n",
    "all_chunks = []\n",
    "\n",
    "loader = PyPDFLoader(doc_path)\n",
    "pages = loader.load_and_split()\n",
    "for page in pages:\n",
    "    chunks = text_splitter.split_text(page.page_content)\n",
    "    for chunk in chunks:\n",
    "        all_chunks.append(chunk)\n",
    "        \n",
    "print(f\"Parsed: {doc_path}\")\n",
    "print(f\"Chunked {len(pages)} pages into {len(all_chunks)} chunks\")"
   ]
  },
  {
   "cell_type": "code",
   "execution_count": 6,
   "id": "8ba8dd98",
   "metadata": {},
   "outputs": [
    {
     "name": "stdout",
     "output_type": "stream",
     "text": [
      "\n",
      "First chunk: \n",
      "The Microsoft Ecosystem and Its Advantages\n",
      "Alpesh Patel·Follow\n",
      "9 min read·May 22, 2023\n",
      "Listen Share\n",
      "Digital business transformation, in today’s hi-tech marketplace has become a\n",
      "business reality. For our businesses to create value for customers, it is imperative\n",
      "that our evolving business and rapidly changing technology landscape adopts\n",
      "transformation to create value for the customer. Therefore, every business today\n",
      "must transform to address new competitive forces and create new value. Digital\n",
      "business transformation, if done strategically, brings a deep understanding of\n",
      "customer, thereby, enabling you to design product and services that best meet their\n",
      "needs, streamline operations through application that improves responsiveness,\n",
      "\n",
      "Second chunk: \n",
      "needs, streamline operations through application that improves responsiveness,\n",
      "service levels, and reduce costs, and delivers more empowered teams by providing\n",
      "them the right information at the right time.\n",
      "There are 4 pillars of digital transformation that allows to engage with customers,\n",
      "optimize operations, empower employees, and transform products and services.\n",
      "Microsoft Dynamics 365 leverages digital transformation provides deep\n",
      "understanding of enterprise business to assist to digitally transform and at the same\n",
      "time achieve success in our own terms. When customer data is built into feedback\n",
      "loop, enterprises can deliver more effective and personalized products and services.\n",
      "The digital feedback loop allows to connect data together and apply intelligence to\n"
     ]
    }
   ],
   "source": [
    "# Check the first two chunks to ensure correct splitting\n",
    "print('\\nFirst chunk: \\n' + all_chunks[0])\n",
    "print('\\nSecond chunk: \\n' + all_chunks[1])"
   ]
  },
  {
   "cell_type": "code",
   "execution_count": 7,
   "id": "f4a83101",
   "metadata": {},
   "outputs": [],
   "source": [
    "# Generate embeddings for each chunk using OpenAI model\n",
    "model = 'text-embedding-3-small'\n",
    "embeddings_model = OpenAIEmbeddings(\n",
    "    model = model,\n",
    "    openai_api_key = OPENAI_API_KEY\n",
    ")\n",
    "embeddings = []\n",
    "for chunk in all_chunks:\n",
    "    embeddings.append(embeddings_model.embed_query(chunk))"
   ]
  },
  {
   "cell_type": "code",
   "execution_count": 8,
   "id": "c4f51b3b",
   "metadata": {},
   "outputs": [
    {
     "name": "stdout",
     "output_type": "stream",
     "text": [
      "The Microsoft Ecosystem and Its Advantages\n",
      "Alpesh Patel·Follow\n",
      "9 min read·May 22, 2023\n",
      "Listen Share\n",
      "Digital business transformation, in today’s hi-tech marketplace has become a\n",
      "business reality. For our businesses to create value for customers, it is imperative\n",
      "that our evolving business and rapidly changing technology landscape adopts\n",
      "transformation to create value for the customer. Therefore, every business today\n",
      "must transform to address new competitive forces and create new value. Digital\n",
      "business transformation, if done strategically, brings a deep understanding of\n",
      "customer, thereby, enabling you to design product and services that best meet their\n",
      "needs, streamline operations through application that improves responsiveness,\n",
      "\n",
      "First embedding (sample): \n",
      "[-0.007180939894169569, 0.055880360305309296, 0.06044750660657883, 0.05364156514406204, -0.04005207121372223, 0.012850691564381123, 0.08686530590057373, -0.015783514827489853, 0.013231287710368633, 0.04728338122367859, -0.021626774221658707, -0.03772372007369995, -0.0207536444067955, 0.012615618295967579, 0.04952218011021614, -0.02565660886466503, -0.053552012890577316, -0.016779780387878418, 0.012783528305590153, -0.0011138012632727623, 0.008406681008636951, 0.01438426785171032, 0.048850540071725845, -0.013858150690793991, -0.01445143111050129, -0.04791024699807167, 0.031947627663612366, 0.005252776201814413, -0.048134125769138336, 0.023708855733275414, -0.019141709432005882, -0.014596953056752682, 0.018559623509645462, 0.024716313928365707, 0.023104380816221237, -0.023440198972821236, -0.021884236484766006, 0.03819386661052704, -0.02599242702126503, 0.006817135494202375, 0.023238707333803177, 0.011888009496033192, 0.05055202543735504, 0.018727533519268036, -0.02722376585006714, -0.04381324723362923, -0.05538782477378845, 0.019130516797304153, 0.030290916562080383, -0.0241790022701025, -0.03409687057137489, 0.049566954374313354, -0.044865481555461884, -0.012749945744872093, -0.045693837106227875, 0.019902901723980904, -0.008916007354855537, -0.03470134735107422, 0.0473281592130661, -0.006570867728441954, -0.021100657060742378, -0.0002392713795416057, 0.012156665325164795, -0.013936508446931839, 0.054402753710746765, -0.032798368483781815, -0.004004647023975849, -0.01479844469577074, 0.007035417947918177, 0.005960795562714338, 0.008138025179505348, -0.04817890003323555, 0.03913416340947151, -0.0003802455903496593, 0.008541008457541466, -0.017977535724639893, 0.032932695001363754, 0.022858113050460815, -0.0050652772188186646, 0.008720112033188343, -0.033380456268787384, 0.017395447939634323, -0.004348861984908581, -0.04307444393634796, 0.02482825331389904, 0.0030895392410457134, -0.016757391393184662, -0.03935804218053818, 0.034477464854717255, 0.008742500096559525, -0.0033274113666266203, -0.03109688311815262, 0.003895506029948592, 0.0013404793571680784, 0.056910205632448196, -0.01656709425151348, 0.016085753217339516, 0.006917881313711405, 0.05126843973994255]\n"
     ]
    }
   ],
   "source": [
    "# Check the first embedding to ensure correct generation\n",
    "print(all_chunks[0])\n",
    "print('\\nFirst embedding (sample): \\n' + str(embeddings[0][1:100]))"
   ]
  },
  {
   "cell_type": "markdown",
   "id": "59d1ce2d",
   "metadata": {},
   "source": [
    "## Write Data to Neo4j\n",
    "This section shows how to clear the existing database, create document nodes, and link text chunks with their embeddings in Neo4j."
   ]
  },
  {
   "cell_type": "code",
   "execution_count": 9,
   "id": "1358cb39",
   "metadata": {},
   "outputs": [
    {
     "name": "stdout",
     "output_type": "stream",
     "text": [
      "Database cleared.\n"
     ]
    }
   ],
   "source": [
    "# Connect to Neo4j and clear the database\n",
    "driver = GraphDatabase.driver(uri, auth=(username, password), database=database)\n",
    "driver.execute_query('MATCH (n) DETACH DELETE n')\n",
    "print(\"Database cleared.\")"
   ]
  },
  {
   "cell_type": "code",
   "execution_count": 10,
   "id": "6459f30c-c015-49c9-9fab-701e57ca58cd",
   "metadata": {},
   "outputs": [
    {
     "data": {
      "text/plain": [
       "EagerResult(records=[], summary=<neo4j._work.summary.ResultSummary object at 0x127f52610>, keys=[])"
      ]
     },
     "execution_count": 10,
     "metadata": {},
     "output_type": "execute_result"
    }
   ],
   "source": [
    "driver.execute_query(\"\"\"\n",
    "CREATE VECTOR INDEX vecindex IF NOT EXISTS\n",
    "FOR (m:Chunk)\n",
    "ON m.embedding\n",
    "OPTIONS {indexConfig: {\n",
    " `vector.dimensions`: 1536,\n",
    " `vector.similarity_function`: 'cosine'\n",
    "}}\"\"\")"
   ]
  },
  {
   "cell_type": "code",
   "execution_count": 11,
   "id": "25d2b5f1",
   "metadata": {},
   "outputs": [
    {
     "name": "stdout",
     "output_type": "stream",
     "text": [
      "Document created.\n"
     ]
    }
   ],
   "source": [
    "# Create a document node for the PDF\n",
    "driver.execute_query('CREATE (d:Document{name:\"'+doc_path+'\"})')\n",
    "print('Document created.')"
   ]
  },
  {
   "cell_type": "code",
   "execution_count": 12,
   "id": "dfbf9af9",
   "metadata": {},
   "outputs": [
    {
     "name": "stdout",
     "output_type": "stream",
     "text": [
      "Embeddings set.\n"
     ]
    }
   ],
   "source": [
    "# Create chunk nodes and link them to the document node\n",
    "for index, chunk in enumerate(all_chunks):\n",
    "    embedding = embeddings[index]\n",
    "    driver.execute_query(f\"\"\"\n",
    "    MATCH (d:Document)\n",
    "    WHERE d.name = '{doc_path}'\n",
    "    CREATE (d)-[:HAS_CHUNK]->(c:Chunk)\n",
    "    SET c.text = '{chunk}'\n",
    "    SET c.embedding = {embedding}\n",
    "    SET c.index = {index}\n",
    "    \"\"\")\n",
    "    \n",
    "print('Embeddings set.')"
   ]
  },
  {
   "cell_type": "markdown",
   "id": "5ff8cf07",
   "metadata": {},
   "source": [
    "## Visualize the Graph\n",
    "Use yFiles Jupyter graphs for Neo4j to visualize the document and its chunks."
   ]
  },
  {
   "cell_type": "code",
   "execution_count": 13,
   "id": "a1d8bfd1",
   "metadata": {},
   "outputs": [
    {
     "data": {
      "application/vnd.jupyter.widget-view+json": {
       "model_id": "866e70b60541456f97198edc0b933c77",
       "version_major": 2,
       "version_minor": 0
      },
      "text/plain": [
       "GraphWidget(layout=Layout(height='760px', width='100%'))"
      ]
     },
     "metadata": {},
     "output_type": "display_data"
    }
   ],
   "source": [
    "# Visualize the document and chunks in Neo4j\n",
    "from yfiles_jupyter_graphs_for_neo4j import Neo4jGraphWidget\n",
    "widget = Neo4jGraphWidget(driver, overview_enabled=False, context_start_with=None)\n",
    "widget.show_cypher(\"MATCH (d:Document)-[r]->(c:Chunk) RETURN d,r,c\")"
   ]
  },
  {
   "cell_type": "markdown",
   "id": "6763a0dc-809d-4c1b-8bbe-5506ab8bbf96",
   "metadata": {},
   "source": [
    "## Extract Graph from Text\n",
    "Use LangChain to extract entities from the graph."
   ]
  },
  {
   "cell_type": "code",
   "execution_count": 14,
   "id": "ab6cd0ce-8c33-4f07-b8c8-47133b0e3d25",
   "metadata": {},
   "outputs": [],
   "source": [
    "### Graph Schema\n",
    "# either one can be set to 'None' to let the model infer data.\n",
    "allowed_nodes = [\"Capability\", \"Service\", \"Organization\", \"Department\", \"Industry\", \"DataSource\", \"Person\", \"Article\"]\n",
    "allowed_relationships = [\"PROVIDED_BY\",\"HAS_SERVICE\",\"ENABLES_CAPABILITY\",\"USED_BY\",\"USES_DATA_FROM\",\"BELONGS_TO_DEPARTMENT\",\"CONNECTS_TO\"]\n"
   ]
  },
  {
   "cell_type": "code",
   "execution_count": 15,
   "id": "6bcefe4f-5b7d-433e-b23b-a39e97073948",
   "metadata": {},
   "outputs": [
    {
     "name": "stdout",
     "output_type": "stream",
     "text": [
      "Loaded chunk 1/25 Current nodes: 3, relationships: 2...\n",
      "Loaded chunk 2/25 Current nodes: 12, relationships: 10...\n",
      "Loaded chunk 3/25 Current nodes: 29, relationships: 26...\n",
      "Loaded chunk 4/25 Current nodes: 41, relationships: 37...\n",
      "Loaded chunk 5/25 Current nodes: 51, relationships: 43...\n",
      "Loaded chunk 6/25 Current nodes: 51, relationships: 43...\n",
      "Loaded chunk 7/25 Current nodes: 54, relationships: 43...\n",
      "Loaded chunk 8/25 Current nodes: 59, relationships: 43...\n",
      "Loaded chunk 9/25 Current nodes: 71, relationships: 55...\n",
      "Loaded chunk 10/25 Current nodes: 71, relationships: 57...\n",
      "Loaded chunk 11/25 Current nodes: 78, relationships: 62...\n",
      "Loaded chunk 12/25 Current nodes: 79, relationships: 62...\n",
      "Loaded chunk 13/25 Current nodes: 87, relationships: 70...\n",
      "Loaded chunk 14/25 Current nodes: 88, relationships: 74...\n",
      "Loaded chunk 15/25 Current nodes: 102, relationships: 89...\n",
      "Loaded chunk 16/25 Current nodes: 113, relationships: 100...\n",
      "Loaded chunk 17/25 Current nodes: 119, relationships: 105...\n",
      "Loaded chunk 18/25 Current nodes: 125, relationships: 111...\n",
      "Loaded chunk 19/25 Current nodes: 144, relationships: 129...\n",
      "Loaded chunk 20/25 Current nodes: 149, relationships: 134...\n",
      "Loaded chunk 21/25 Current nodes: 153, relationships: 138...\n",
      "Loaded chunk 22/25 Current nodes: 153, relationships: 138...\n",
      "Loaded chunk 23/25 Current nodes: 160, relationships: 145...\n",
      "Loaded chunk 24/25 Current nodes: 162, relationships: 153...\n",
      "Loaded chunk 25/25 Current nodes: 162, relationships: 153...\n",
      "Complete\n"
     ]
    }
   ],
   "source": [
    "# Import necessary libraries and initialize LangChain's LLMGraphTransformer\n",
    "import os\n",
    "from langchain_experimental.graph_transformers import LLMGraphTransformer\n",
    "from langchain_openai import ChatOpenAI\n",
    "llm = ChatOpenAI(temperature=0, model_name=\"gpt-4o\")\n",
    "llm_transformer = LLMGraphTransformer(\n",
    "    llm=llm, \n",
    "    allowed_nodes=allowed_nodes, \n",
    "    allowed_relationships=allowed_relationships)\n",
    "from langchain_core.documents import Document\n",
    "\n",
    "# Initialize dictionaries to store nodes and relationships\n",
    "nodes = {}\n",
    "rels = {}\n",
    "\n",
    "# Define functions to generate unique hashes for nodes and relationships\n",
    "def get_node_hash(node):\n",
    "    return hash(node.id + ':' + node.type)\n",
    "\n",
    "def get_rel_hash(rel):\n",
    "    return hash(rel.source.id + ':' + rel.source.type + ':' + rel.type + ':' + rel.target.id + ':' + rel.target.type)\n",
    "\n",
    "# Process each text chunk to extract graph information\n",
    "for index, chunk in enumerate(all_chunks):\n",
    "    documents = [Document(page_content=chunk)]\n",
    "    graph_documents = llm_transformer.convert_to_graph_documents(documents)\n",
    "\n",
    "    # Extract unique nodes from the LangChain output\n",
    "    for node in graph_documents[0].nodes:\n",
    "        node_hash = get_node_hash(node)\n",
    "        if node_hash in nodes:\n",
    "            nodes[node_hash]['chunks'].append(index)\n",
    "        else:\n",
    "            nodes[node_hash] = {'id': node_hash, 'name': node.id, 'label': node.type, 'chunks': [index]}\n",
    "\n",
    "    # Extract unique relationships from the LangChain output\n",
    "    for rel in graph_documents[0].relationships:\n",
    "        rel_hash = get_rel_hash(rel)\n",
    "        if rel_hash in rels:\n",
    "            rels[rel_hash]['chunks'].append(index)\n",
    "        else:\n",
    "            source_hash = get_node_hash(rel.source)\n",
    "            target_hash = get_node_hash(rel.target)\n",
    "            rels[rel_hash] = {'id': rel_hash, 'source': source_hash, 'target': target_hash, 'type': rel.type, 'chunks': [index]}\n",
    "\n",
    "    print(f\"Loaded chunk {index+1}/{len(all_chunks)} Current nodes: {len(nodes)}, relationships: {len(rels)}...\")\n",
    "\n",
    "print('Complete')"
   ]
  },
  {
   "cell_type": "code",
   "execution_count": 16,
   "id": "d76e1070-c4fa-4ca0-8330-080f7248f421",
   "metadata": {},
   "outputs": [
    {
     "name": "stdout",
     "output_type": "stream",
     "text": [
      "Nodes created and linked to chunks.\n"
     ]
    }
   ],
   "source": [
    "# Write nodes to Neo4j and link them to the corresponding chunks\n",
    "## TODO -> this needs some optimization using parameters / batching.\n",
    "for node in nodes.values():\n",
    "    driver.execute_query(f\"\"\"\n",
    "    CREATE (n:{node['label']})\n",
    "    SET n.name = \"{node['name']}\"\n",
    "    SET n.id = \"{node['id']}\"\n",
    "    WITH n\n",
    "    UNWIND {str(node['chunks'])} as chunk_index\n",
    "    MATCH (c:Chunk)\n",
    "    WHERE c.index = chunk_index\n",
    "    CREATE (n)-[:IN]->(c)\n",
    "    \"\"\")\n",
    "\n",
    "print('Nodes created and linked to chunks.')"
   ]
  },
  {
   "cell_type": "code",
   "execution_count": 17,
   "id": "027eb24f-3e25-475b-b90e-b53d048ddf88",
   "metadata": {},
   "outputs": [
    {
     "name": "stdout",
     "output_type": "stream",
     "text": [
      "Relationships created.\n"
     ]
    }
   ],
   "source": [
    "# Write relationships to Neo4j\n",
    "## TODO -> this needs some optimization using parameters / batching.\n",
    "for rel in rels.values():\n",
    "    driver.execute_query(f\"\"\"\n",
    "    MATCH (n), (m)\n",
    "    WHERE n.id = \"{rel['source']}\" AND m.id = \"{rel['target']}\"\n",
    "    CREATE (n)-[r:{rel['type']}]->(m)\n",
    "    SET r.chunks = {str(rel['chunks'])}\n",
    "    SET r.id = {str(rel['id'])}\n",
    "    \"\"\")\n",
    "\n",
    "print('Relationships created.')"
   ]
  },
  {
   "cell_type": "code",
   "execution_count": 18,
   "id": "b69dcefa-e79b-4420-a84b-cdae1a1aa677",
   "metadata": {},
   "outputs": [
    {
     "data": {
      "application/vnd.jupyter.widget-view+json": {
       "model_id": "162925381ea2493693954de7038baed3",
       "version_major": 2,
       "version_minor": 0
      },
      "text/plain": [
       "GraphWidget(layout=Layout(height='800px', width='100%'))"
      ]
     },
     "metadata": {},
     "output_type": "display_data"
    }
   ],
   "source": [
    "# Visualize the graph in Neo4j\n",
    "from yfiles_jupyter_graphs_for_neo4j import Neo4jGraphWidget\n",
    "widget = Neo4jGraphWidget(driver, overview_enabled=False, context_start_with=None)\n",
    "widget.show_cypher(\"MATCH (d)-[r]->(c) WHERE type(r) <> 'IN' AND type(r) <> 'HAS_CHUNK' RETURN d,r,c\")"
   ]
  },
  {
   "cell_type": "markdown",
   "id": "15bf31c0-b04a-46ee-bc8e-2a04d2c2f444",
   "metadata": {},
   "source": [
    "## Time for Querying\n",
    "We now demonstrate how to use both regular VectorRAG and GraphRAG to ask questions to the database:\n",
    "- The VectorRAG implementation uses only the chunked text and their embeddings.\n",
    "- The GraphRAG implementation also uses the context around the documents (extracted entities and their relationships) to generate an answer."
   ]
  },
  {
   "cell_type": "code",
   "execution_count": 19,
   "id": "f0b85abc-9bd4-4d06-94e8-14ec30c82b31",
   "metadata": {},
   "outputs": [],
   "source": [
    "from neo4j import GraphDatabase\n",
    "from neo4j_genai.retrievers import VectorRetriever, VectorCypherRetriever\n",
    "from neo4j_genai.llm import OpenAILLM\n",
    "from neo4j_genai.generation import GraphRAG\n",
    "from neo4j_genai.embeddings.openai import OpenAIEmbeddings\n",
    "\n",
    "index_name = \"vecindex\"\n",
    "### Set up the RAG framework\n",
    "\n",
    "# 1. Connect to Neo4j database\n",
    "driver = GraphDatabase.driver(uri, auth=(username, password), database=database)\n",
    "\n",
    "# 2. Create Embedder object, needed to convert the user question (text) to a vector\n",
    "embedder = OpenAIEmbeddings(model=\"text-embedding-3-small\")\n",
    "\n",
    "# 3. LLM\n",
    "llm = OpenAILLM(model_name=\"gpt-4o\", model_params={\"temperature\": 0})"
   ]
  },
  {
   "cell_type": "code",
   "execution_count": 20,
   "id": "abefb0d0-2d2b-48df-933d-2775fa35f1fe",
   "metadata": {},
   "outputs": [
    {
     "name": "stdout",
     "output_type": "stream",
     "text": [
      "Response with VectorRAG:\n",
      "Reps on the road can use bots to drive technical sales answers and get responses.\n"
     ]
    }
   ],
   "source": [
    "# Vector RAG:\n",
    "retriever = VectorRetriever(driver, index_name, embedder)\n",
    "# Initialize the RAG pipeline (note: this is just using plain vector RAG without context)\n",
    "rag = GraphRAG(retriever=retriever, llm=llm)\n",
    "\n",
    "# Query the graph\n",
    "query_text = \"Which Microsoft service can Reps on the road use?\"\n",
    "response = rag.search(query_text, retriever_config={\"top_k\": 3})\n",
    "print(\"Response with VectorRAG:\")\n",
    "print(response.answer)"
   ]
  },
  {
   "cell_type": "code",
   "execution_count": 21,
   "id": "70a564ca-2839-4b35-9bc3-8afb8192169c",
   "metadata": {},
   "outputs": [
    {
     "name": "stdout",
     "output_type": "stream",
     "text": [
      "Response with GraphRAG:\n",
      "Reps on the road can use the \"Technical Sales Answers\" service provided by Microsoft.\n"
     ]
    }
   ],
   "source": [
    "# Now, context-aware GraphRAG\n",
    "retriever = VectorCypherRetriever(\n",
    "    driver,\n",
    "    index_name=index_name,\n",
    "    retrieval_query=\"\"\"\n",
    "    // Retrieve Neighbourhood (Context)\n",
    "    MATCH path=(node)<-[r:IN]-(node2)\n",
    "    OPTIONAL MATCH (node2)-[r2]-(node3) \n",
    "    WHERE type(r2) <> \"IN\"\n",
    "    RETURN node.index as chunkindex, node2.id as sourceid, node2.name as source, \n",
    "    toString(r2.id) as relid, type(r2) as reltype, \n",
    "    node3.id as targetid, node3.name as targetname, \n",
    "    score\"\"\",\n",
    "    embedder=embedder\n",
    ")\n",
    "\n",
    "# Initialize the RAG pipeline\n",
    "rag = GraphRAG(retriever=retriever, llm=llm)\n",
    "\n",
    "# Query the graph\n",
    "response = rag.search(query_text, retriever_config={\"top_k\": 3}, return_context=True)\n",
    "print(\"Response with GraphRAG:\")\n",
    "print(response.answer)"
   ]
  },
  {
   "cell_type": "code",
   "execution_count": 22,
   "id": "d651b262-7bbe-4a2d-b2e8-c95be21f3d77",
   "metadata": {},
   "outputs": [],
   "source": [
    "import re\n",
    "# Define the regex pattern to match key-value pairs\n",
    "pattern = re.compile(r\"(\\w+\\.\\w+|type\\(r2\\)|\\w+)=('[^']*'|\\d+\\.\\d+|\\d+|[^' \\n]+)\")\n",
    "\n",
    "\n",
    "used_context = [item.content for item in response.retriever_result.items]\n",
    "used_context = [re.findall( pattern, item) for item in used_context]\n",
    "used_context = [{key: value.replace(\"'\",\"\") for key, value in matches} for matches in used_context]"
   ]
  },
  {
   "cell_type": "code",
   "execution_count": 23,
   "id": "b8e770c4-e959-45a2-a0eb-e40b04c426d5",
   "metadata": {},
   "outputs": [
    {
     "data": {
      "application/vnd.jupyter.widget-view+json": {
       "model_id": "c4c6bd5f11644426bd59521921cdb4c2",
       "version_major": 2,
       "version_minor": 0
      },
      "text/plain": [
       "GraphWidget(layout=Layout(height='800px', width='100%'))"
      ]
     },
     "metadata": {},
     "output_type": "display_data"
    }
   ],
   "source": [
    "# Visualize the graph in Neo4j\n",
    "from yfiles_jupyter_graphs_for_neo4j import Neo4jGraphWidget\n",
    "widget = Neo4jGraphWidget(driver, overview_enabled=False, context_start_with=None)\n",
    "widget.show_cypher(\"\"\"\n",
    "UNWIND $context as row\n",
    "MATCH (c:Chunk)-[r1]-(n)-[r2]-(m) \n",
    "WHERE c.index = toInteger(row['chunkindex']) AND n.id = row['sourceid'] AND r2.id = toInteger(row['relid']) AND m.id = row['targetid']\n",
    "RETURN c, r1, n, r2, m\n",
    "\n",
    "\"\"\", context=used_context)"
   ]
  },
  {
   "cell_type": "code",
   "execution_count": null,
   "id": "0c551218-eae6-48de-a289-7ee0448c9689",
   "metadata": {},
   "outputs": [],
   "source": []
  },
  {
   "cell_type": "code",
   "execution_count": null,
   "id": "7780b22b-d502-4aaf-a532-c8b3dd673439",
   "metadata": {},
   "outputs": [],
   "source": []
  },
  {
   "cell_type": "code",
   "execution_count": null,
   "id": "18a6a0b6-cd5a-4f48-a01c-48cf42c150a2",
   "metadata": {},
   "outputs": [],
   "source": []
  },
  {
   "cell_type": "code",
   "execution_count": null,
   "id": "65276dd5-bd7c-4577-ac29-94bd495e8e73",
   "metadata": {},
   "outputs": [],
   "source": []
  },
  {
   "cell_type": "code",
   "execution_count": null,
   "id": "c13ee5ad-b875-4365-b88c-e31de804ad8a",
   "metadata": {},
   "outputs": [],
   "source": []
  },
  {
   "cell_type": "code",
   "execution_count": null,
   "id": "fb7c8caf-c6ce-463e-b345-41e7f01d2021",
   "metadata": {},
   "outputs": [],
   "source": []
  },
  {
   "cell_type": "code",
   "execution_count": null,
   "id": "1d09fa53-97f6-400c-b7bd-361d5544bba3",
   "metadata": {},
   "outputs": [],
   "source": []
  }
 ],
 "metadata": {
  "kernelspec": {
   "display_name": "Python 3 (ipykernel)",
   "language": "python",
   "name": "python3"
  },
  "language_info": {
   "codemirror_mode": {
    "name": "ipython",
    "version": 3
   },
   "file_extension": ".py",
   "mimetype": "text/x-python",
   "name": "python",
   "nbconvert_exporter": "python",
   "pygments_lexer": "ipython3",
   "version": "3.9.15"
  }
 },
 "nbformat": 4,
 "nbformat_minor": 5
}
